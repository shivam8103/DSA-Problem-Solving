{
 "cells": [
  {
   "cell_type": "markdown",
   "id": "8e8d3ffc",
   "metadata": {},
   "source": [
    "# LeetCode #704. Binary Search\n",
    "Given an array of integers nums which is sorted in ascending order, and an integer target, write a function to search target in nums. If target exists, then return its index. Otherwise, return -1.\n",
    "\n",
    "You must write an algorithm with O(log n) runtime complexity.\n",
    "\n",
    " \n",
    "## Examples:\n",
    "\n",
    "### Example 1:\n",
    "\n",
    "**Input:** nums = [-1,0,3,5,9,12], target = 9\n",
    "**Output:** 4\n",
    "**Explanation:** 9 exists in nums and its index is 4\n",
    "\n",
    "### Example 2:\n",
    "\n",
    "**Input:** nums = [-1,0,3,5,9,12], target = 2\n",
    "**Output:** -1\n",
    "**Explanation:** 2 does not exist in nums so return -1"
   ]
  },
  {
   "cell_type": "markdown",
   "id": "03a40a22",
   "metadata": {},
   "source": []
  }
 ],
 "metadata": {
  "language_info": {
   "name": "python"
  }
 },
 "nbformat": 4,
 "nbformat_minor": 5
}
