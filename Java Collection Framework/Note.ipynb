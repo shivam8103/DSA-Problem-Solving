{
 "cells": [
  {
   "cell_type": "markdown",
   "id": "c3013c38",
   "metadata": {},
   "source": [
    "# String and String Array\n",
    "## 1. Convert int to string\n",
    "\n",
    "```java\n",
    "int i = 1;\n",
    "String str = Integer.toString(i);\n",
    "```\n",
    "\n",
    "## 2. String Length\n",
    "\n",
    "```java\n",
    "str.length();\n",
    "```\n",
    "\n",
    "## 3. In a string array find first string.\n",
    "\n",
    "```java\n",
    "String strs = [\"abc\", \"def\", \"ghu\"];\n",
    "String firstString = str[0];\n",
    "```\n",
    "\n",
    "## 4. In a string element find first character of first string.\n",
    "\n",
    "```java\n",
    "String firstCharOfFirstString = str[0].charAt(0);\n",
    "```\n",
    "\n"
   ]
  },
  {
   "cell_type": "markdown",
   "id": "e3a43d0d",
   "metadata": {},
   "source": [
    "# HashMap \n",
    "\n",
    "## 1. Create HashMap\n",
    "\n",
    "```java\n",
    "HashMap<Integer, Integer> map = new HashMap<>();\n",
    "```\n",
    "\n",
    "## 2. Add key,value pair in hasmap\n",
    "\n",
    "```java\n",
    "map.put(key,value);\n",
    "```\n",
    "\n"
   ]
  },
  {
   "cell_type": "markdown",
   "id": "8447fb4c",
   "metadata": {},
   "source": []
  }
 ],
 "metadata": {
  "language_info": {
   "name": "python"
  }
 },
 "nbformat": 4,
 "nbformat_minor": 5
}
